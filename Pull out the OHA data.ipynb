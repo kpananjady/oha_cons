{
 "cells": [
  {
   "cell_type": "markdown",
   "metadata": {},
   "source": [
    "# What this file does"
   ]
  },
  {
   "cell_type": "markdown",
   "metadata": {},
   "source": [
    "Scrapes the certificates of need from the Office of Health Strategy's website. Looking for applications for mental health facilities over time."
   ]
  },
  {
   "cell_type": "code",
   "execution_count": 38,
   "metadata": {},
   "outputs": [],
   "source": [
    "#tools\n",
    "import requests\n",
    "import pandas as pd\n",
    "from datetime import datetime\n",
    "import numpy as np"
   ]
  },
  {
   "cell_type": "code",
   "execution_count": 39,
   "metadata": {},
   "outputs": [],
   "source": [
    "#copy cURL and use https://curl.trillworks.com/\n",
    "cookies = {\n",
    "    '__utma': '64328189.1312055381.1587758998.1591459165.1592333659.2',\n",
    "    '_ga_76Z1SF2P6H': 'GS1.1.1613926003.2.0.1613926003.0',\n",
    "    '_ga_YVLSZ2433X': 'GS1.1.1617317259.7.0.1617317259.0',\n",
    "    '_ga_M5NRCCSVBB': 'GS1.1.1617994491.6.0.1617994491.0',\n",
    "    '_hjid': '3adbc369-236b-4856-9e04-82f1c72ece59',\n",
    "    '_ga_Z8GFYXH9YT': 'GS1.1.1623862014.17.0.1623862014.0',\n",
    "    '_hjTLDTest': '1',\n",
    "    '_gid': 'GA1.2.685151373.1624893575',\n",
    "    '_ga': 'GA1.2.1312055381.1587758998',\n",
    "    '_ga_89NN4475GK': 'GS1.1.1624995736.3.0.1624995963.0',\n",
    "}\n",
    "\n",
    "headers = {\n",
    "    'Connection': 'keep-alive',\n",
    "    'Pragma': 'no-cache',\n",
    "    'Cache-Control': 'no-cache',\n",
    "    'sec-ch-ua': '\" Not;A Brand\";v=\"99\", \"Google Chrome\";v=\"91\", \"Chromium\";v=\"91\"',\n",
    "    'Accept': '*/*',\n",
    "    'X-Requested-With': 'XMLHttpRequest',\n",
    "    'sec-ch-ua-mobile': '?0',\n",
    "    'User-Agent': 'Mozilla/5.0 (Macintosh; Intel Mac OS X 10_15_1) AppleWebKit/537.36 (KHTML, like Gecko) Chrome/91.0.4472.114 Safari/537.36',\n",
    "    'Content-Type': 'application/x-www-form-urlencoded; charset=UTF-8',\n",
    "    'Origin': 'https://dphconwebportal.ct.gov',\n",
    "    'Sec-Fetch-Site': 'same-origin',\n",
    "    'Sec-Fetch-Mode': 'cors',\n",
    "    'Sec-Fetch-Dest': 'empty',\n",
    "    'Referer': 'https://dphconwebportal.ct.gov/Report',\n",
    "    'Accept-Language': 'en-US,en;q=0.9',\n",
    "}\n"
   ]
  },
  {
   "cell_type": "code",
   "execution_count": 40,
   "metadata": {},
   "outputs": [],
   "source": [
    "#page loops, pandas append\n",
    "i=1\n",
    "for i in range(1,33):\n",
    "    data = {\n",
    "      'sort': '',\n",
    "      'page': f\"{str(i)}\",\n",
    "      'pageSize': '15',\n",
    "      'group': '',\n",
    "      'filter': ''\n",
    "    }    \n",
    "    response = requests.post('https://dphconwebportal.ct.gov/Report/UserApplications_Read', headers=headers, cookies=cookies, data=data)\n",
    "    result = response.json()\n",
    "    if i ==1:\n",
    "        df_1 = pd.DataFrame(result[\"Data\"])\n",
    "    else:\n",
    "        df = pd.DataFrame(result[\"Data\"])\n",
    "        df_1 = df_1.append(df)\n",
    "    i += 1\n",
    "    "
   ]
  },
  {
   "cell_type": "code",
   "execution_count": 41,
   "metadata": {},
   "outputs": [
    {
     "data": {
      "text/plain": [
       "Index(['ApplicationId', 'UserId', 'UserName', 'ApplicationType', 'Docket',\n",
       "       'DocketType', 'DocketStatus', 'DocketStatusDate', 'Status',\n",
       "       'CreateDate', 'Payment', 'PaymentStatus', 'Applicant', 'Title',\n",
       "       'Expenditure', 'Village', 'ListofDocuments'],\n",
       "      dtype='object')"
      ]
     },
     "execution_count": 41,
     "metadata": {},
     "output_type": "execute_result"
    }
   ],
   "source": [
    "#what's the payment column about\n",
    "df_1.columns"
   ]
  },
  {
   "cell_type": "code",
   "execution_count": 42,
   "metadata": {},
   "outputs": [],
   "source": [
    "#go from UNIX to datetime to month/year\n",
    "df_1['DocketStatusDate'] = df_1['DocketStatusDate'].str.extract(r'.Date\\((.*)\\).')\n",
    "df_1['CreateDate'] = df_1['CreateDate'].str.extract(r'.Date\\((.*)\\).')\n",
    "\n",
    "df_1['DocketStatusDate'] = pd.to_datetime(df_1['DocketStatusDate'], unit='ms')\n",
    "df_1['CreateDate'] = pd.to_datetime(df_1['CreateDate'], unit='ms')\n",
    "\n",
    "df_1['CreateDate_MonthYear'] = df_1['CreateDate'].dt.to_period('M')\n",
    "df_1['CreateDate_Year'] = df_1['CreateDate'].dt.to_period('Y')"
   ]
  },
  {
   "cell_type": "code",
   "execution_count": 100,
   "metadata": {},
   "outputs": [
    {
     "data": {
      "text/plain": [
       "<PeriodArray>\n",
       "['2021-03', '2021-04', '2021-06', '2021-05', '2021-02', '2021-01', '2020-12',\n",
       " '2020-10', '2020-11', '2020-09', '2020-08', '2020-07', '2020-06', '2020-05',\n",
       " '2020-04', '2020-03', '2020-02', '2020-01', '2019-12', '2019-11', '2019-10',\n",
       " '2019-09', '2019-08', '2019-07', '2019-06', '2019-05', '2019-04', '2019-03',\n",
       " '2019-02', '2019-01', '2018-12', '2018-11', '2018-10', '2018-09', '2018-08',\n",
       " '2018-07', '2018-06', '2018-05', '2018-04', '2018-03', '2018-02', '2018-01',\n",
       " '2017-12', '2017-11', '2017-09', '2017-10', '2017-08']\n",
       "Length: 47, dtype: period[M]"
      ]
     },
     "execution_count": 100,
     "metadata": {},
     "output_type": "execute_result"
    }
   ],
   "source": [
    "#data goes only as far back as 2017, October\n",
    "df_1['CreateDate_Year'].unique()\n",
    "df_1['CreateDate_MonthYear'].unique()"
   ]
  },
  {
   "cell_type": "code",
   "execution_count": 81,
   "metadata": {
    "scrolled": true
   },
   "outputs": [
    {
     "name": "stdout",
     "output_type": "stream",
     "text": [
      "\"Establishing a new mental health care facility                             \",\n",
      "\"Transfer of Ownership of a mental health facility\",\n",
      "\"Establishment of mental health day treatment facility and psychiatric outpatient clinic for adults.  Requested additional information from petitioner on 8/2/16.\",\n",
      "\"Relocation of mental health residential living center\",\n",
      "\"Establishment of mental health and substance abuse facility.\",\n",
      "\"SELF Inc. seeks to establish a free standing mental health residential living center in Wolcott, CT. Requested additional information from petitioner on 2/1/16.\",\n",
      "\"Establishment of Shoreline Wellness Behavioral Health Clinic, LLC to provide mental health services in West Haven.\",\n"
     ]
    }
   ],
   "source": [
    "#get all CON applications to do with mental health\n",
    "for con in list(df_1['Title'].unique()):\n",
    "    if \"mental health\" in con:\n",
    "        print('\"'+con+'\"'+',')"
   ]
  },
  {
   "cell_type": "code",
   "execution_count": 88,
   "metadata": {},
   "outputs": [],
   "source": [
    "#filter\n",
    "df_mental_health = df_1[df_1['Title'].isin([\"Establishing a new mental health care facility                             \",\n",
    "\"Transfer of Ownership of a mental health facility\",\n",
    "\"Establishment of mental health day treatment facility and psychiatric outpatient clinic for adults.  Requested additional information from petitioner on 8/2/16.\",\n",
    "\"Relocation of mental health residential living center\",\n",
    "\"Establishment of mental health and substance abuse facility.\",\n",
    "\"SELF Inc. seeks to establish a free standing mental health residential living center in Wolcott, CT. Requested additional information from petitioner on 2/1/16.\",\n",
    "\"Establishment of Shoreline Wellness Behavioral Health Clinic, LLC to provide mental health services in West Haven.\"])]"
   ]
  },
  {
   "cell_type": "code",
   "execution_count": 89,
   "metadata": {},
   "outputs": [
    {
     "data": {
      "text/html": [
       "<div>\n",
       "<style scoped>\n",
       "    .dataframe tbody tr th:only-of-type {\n",
       "        vertical-align: middle;\n",
       "    }\n",
       "\n",
       "    .dataframe tbody tr th {\n",
       "        vertical-align: top;\n",
       "    }\n",
       "\n",
       "    .dataframe thead th {\n",
       "        text-align: right;\n",
       "    }\n",
       "</style>\n",
       "<table border=\"1\" class=\"dataframe\">\n",
       "  <thead>\n",
       "    <tr style=\"text-align: right;\">\n",
       "      <th></th>\n",
       "      <th></th>\n",
       "      <th>Title</th>\n",
       "    </tr>\n",
       "    <tr>\n",
       "      <th>CreateDate_Year</th>\n",
       "      <th>Title</th>\n",
       "      <th></th>\n",
       "    </tr>\n",
       "  </thead>\n",
       "  <tbody>\n",
       "    <tr>\n",
       "      <th>2017</th>\n",
       "      <th>Establishing a new mental health care facility</th>\n",
       "      <td>2</td>\n",
       "    </tr>\n",
       "    <tr>\n",
       "      <th rowspan=\"7\" valign=\"top\">2018</th>\n",
       "      <th>Establishing a new mental health care facility</th>\n",
       "      <td>15</td>\n",
       "    </tr>\n",
       "    <tr>\n",
       "      <th>Establishment of Shoreline Wellness Behavioral Health Clinic, LLC to provide mental health services in West Haven.</th>\n",
       "      <td>1</td>\n",
       "    </tr>\n",
       "    <tr>\n",
       "      <th>Establishment of mental health and substance abuse facility.</th>\n",
       "      <td>1</td>\n",
       "    </tr>\n",
       "    <tr>\n",
       "      <th>Establishment of mental health day treatment facility and psychiatric outpatient clinic for adults.  Requested additional information from petitioner on 8/2/16.</th>\n",
       "      <td>1</td>\n",
       "    </tr>\n",
       "    <tr>\n",
       "      <th>Relocation of mental health residential living center</th>\n",
       "      <td>1</td>\n",
       "    </tr>\n",
       "    <tr>\n",
       "      <th>SELF Inc. seeks to establish a free standing mental health residential living center in Wolcott, CT. Requested additional information from petitioner on 2/1/16.</th>\n",
       "      <td>1</td>\n",
       "    </tr>\n",
       "    <tr>\n",
       "      <th>Transfer of Ownership of a mental health facility</th>\n",
       "      <td>1</td>\n",
       "    </tr>\n",
       "    <tr>\n",
       "      <th rowspan=\"2\" valign=\"top\">2019</th>\n",
       "      <th>Establishing a new mental health care facility</th>\n",
       "      <td>7</td>\n",
       "    </tr>\n",
       "    <tr>\n",
       "      <th>Transfer of Ownership of a mental health facility</th>\n",
       "      <td>3</td>\n",
       "    </tr>\n",
       "    <tr>\n",
       "      <th rowspan=\"2\" valign=\"top\">2020</th>\n",
       "      <th>Establishing a new mental health care facility</th>\n",
       "      <td>17</td>\n",
       "    </tr>\n",
       "    <tr>\n",
       "      <th>Transfer of Ownership of a mental health facility</th>\n",
       "      <td>1</td>\n",
       "    </tr>\n",
       "    <tr>\n",
       "      <th rowspan=\"2\" valign=\"top\">2021</th>\n",
       "      <th>Establishing a new mental health care facility</th>\n",
       "      <td>6</td>\n",
       "    </tr>\n",
       "    <tr>\n",
       "      <th>Transfer of Ownership of a mental health facility</th>\n",
       "      <td>1</td>\n",
       "    </tr>\n",
       "  </tbody>\n",
       "</table>\n",
       "</div>"
      ],
      "text/plain": [
       "                                                                    Title\n",
       "CreateDate_Year Title                                                    \n",
       "2017            Establishing a new mental health care facility ...      2\n",
       "2018            Establishing a new mental health care facility ...     15\n",
       "                Establishment of Shoreline Wellness Behavioral ...      1\n",
       "                Establishment of mental health and substance ab...      1\n",
       "                Establishment of mental health day treatment fa...      1\n",
       "                Relocation of mental health residential living ...      1\n",
       "                SELF Inc. seeks to establish a free standing me...      1\n",
       "                Transfer of Ownership of a mental health facility       1\n",
       "2019            Establishing a new mental health care facility ...      7\n",
       "                Transfer of Ownership of a mental health facility       3\n",
       "2020            Establishing a new mental health care facility ...     17\n",
       "                Transfer of Ownership of a mental health facility       1\n",
       "2021            Establishing a new mental health care facility ...      6\n",
       "                Transfer of Ownership of a mental health facility       1"
      ]
     },
     "execution_count": 89,
     "metadata": {},
     "output_type": "execute_result"
    }
   ],
   "source": [
    "#plot over time by year\n",
    "pd.DataFrame(df_mental_health.groupby(by='CreateDate_Year')['Title'].value_counts())"
   ]
  },
  {
   "cell_type": "code",
   "execution_count": 94,
   "metadata": {},
   "outputs": [
    {
     "data": {
      "text/plain": [
       "Middletown      5\n",
       "Hartford        3\n",
       "New Canaan      2\n",
       "Summit          2\n",
       "Los Alamitos    2\n",
       "Arlington       2\n",
       "Madison         2\n",
       "Manchester      2\n",
       "Waterbury       1\n",
       "Greenwich       1\n",
       "Derby           1\n",
       "Stratford       1\n",
       "Milford         1\n",
       "Enfield         1\n",
       "West Haven      1\n",
       "New City        1\n",
       "New Britain     1\n",
       "Canaan          1\n",
       "New Haven       1\n",
       "New Haven       1\n",
       "Denver          1\n",
       "Naxhville       1\n",
       "Danbury         1\n",
       "Name: Village, dtype: int64"
      ]
     },
     "execution_count": 94,
     "metadata": {},
     "output_type": "execute_result"
    }
   ],
   "source": [
    "#where are these? \n",
    "df_mental_health[df_mental_health['CreateDate_Year']>'2018']['Village'].value_counts()"
   ]
  },
  {
   "cell_type": "code",
   "execution_count": 96,
   "metadata": {},
   "outputs": [
    {
     "data": {
      "text/plain": [
       "Community Health Center, Inc.                                                                           4\n",
       "Mountainside Treatment Center                                                                           2\n",
       "Continuum of Care                                                                                       2\n",
       "American Day CD Centers, LLC                                                                            2\n",
       "Shoreline Wellness Center , LLC                                                                         2\n",
       "Column Health                                                                                           2\n",
       "CT Renaissance                                                                                          2\n",
       "center for discovery                                                                                    2\n",
       "Walden Behavioral Care , LLC                                                                            1\n",
       "The Center for Christian Inc.                                                                           1\n",
       "Bridges Healthcare                                                                                      1\n",
       "Perfect Care, Inc                                                                                       1\n",
       "Connecticut Center for Recovery, LLC                                                                    1\n",
       "Connecticut Children's Medical Center                                                                   1\n",
       "Naugatuck Valley Counseling and Medication Management LLC                                               1\n",
       "Shipman & Goodwin LLP                                                                                   1\n",
       "latin enrichment organization                                                                           1\n",
       "Blue Sky Recovery, LLC                                                                                  1\n",
       "Honor Wellness                                                                                          1\n",
       "Odyssey Behavioral Health                                                                               1\n",
       "Middlesex Hospital                                                                                      1\n",
       "SELF , Inc.                                                                                             1\n",
       "Silver Hill Hospital, Inc.                                                                              1\n",
       "Gilead Community Services                                                                               1\n",
       "The Root Center for Advanced Recovery                                                                   1\n",
       "Perspectives Center for Care , Inc.                                                                     1\n",
       "Greenwich Anxiety Institute, LLC                                                                        1\n",
       "Bristol Hospital and Health Care Group                                                                  1\n",
       "Mental Health and Substance Abuse Association of Greater Hartford                                       1\n",
       "BHCare (Parent Child Resource Center)                                                                   1\n",
       "Farrell Treatment Center                                                                                1\n",
       "Center for Human Development                                                                            1\n",
       "Apex Community Care Inc.                                                                                1\n",
       "Path Integrated Care                                                                                    1\n",
       "Recovery Services of Connecticut LLC                                                                    1\n",
       "Eating Recovery Center                                                                                  1\n",
       "Capitol Region Education Council                                                                        1\n",
       "Monroe Operations , LLC                                                                                 1\n",
       "Discovery Practice Management , Inc.                                                                    1\n",
       "Wildwood Behavioral Health                                                                              1\n",
       "The Progressive Institute, LLC                                                                          1\n",
       "Shoreline Wellness Behavioral Health Clinic , LLC                                                       1\n",
       "Farrell Treatment Center                                                                                1\n",
       "Pinnacle Behavioral Health                                                                              1\n",
       "Newport Academy                                                                                         1\n",
       "Silver Hill Hospital, Inc.                                                                              1\n",
       "CT Clinical Services , Inc.                                                                             1\n",
       "whiting Forensic                                                                                        1\n",
       "Name: Applicant, dtype: int64"
      ]
     },
     "execution_count": 96,
     "metadata": {},
     "output_type": "execute_result"
    }
   ],
   "source": [
    "#a lot of community health center in here post 2018\n",
    "df_mental_health['Applicant'].value_counts()"
   ]
  },
  {
   "cell_type": "code",
   "execution_count": 101,
   "metadata": {},
   "outputs": [],
   "source": [
    "df_1.to_csv('all_cons.csv')"
   ]
  }
 ],
 "metadata": {
  "kernelspec": {
   "display_name": "Python 3",
   "language": "python",
   "name": "python3"
  },
  "language_info": {
   "codemirror_mode": {
    "name": "ipython",
    "version": 3
   },
   "file_extension": ".py",
   "mimetype": "text/x-python",
   "name": "python",
   "nbconvert_exporter": "python",
   "pygments_lexer": "ipython3",
   "version": "3.7.1"
  }
 },
 "nbformat": 4,
 "nbformat_minor": 4
}
